{
 "cells": [
  {
   "cell_type": "markdown",
   "metadata": {
    "application/vnd.databricks.v1+cell": {
     "cellMetadata": {
      "byteLimit": 2048000,
      "rowLimit": 10000
     },
     "inputWidgets": {},
     "nuid": "96078119-c206-4b80-bbd0-55a5bc2b27d0",
     "showTitle": false,
     "tableResultSettingsMap": {},
     "title": ""
    }
   },
   "source": [
    "###Exploratory Data Analysis with Pyspark and Spark SQL\n",
    "Samuel Giorno - Maxime Boiral - Lou Brunneau\n",
    "\n"
   ]
  },
  {
   "cell_type": "code",
   "execution_count": 0,
   "metadata": {
    "application/vnd.databricks.v1+cell": {
     "cellMetadata": {
      "byteLimit": 2048000,
      "rowLimit": 10000
     },
     "inputWidgets": {},
     "nuid": "5fc8152b-d6d3-4681-bd11-a09f94bd8a72",
     "showTitle": false,
     "tableResultSettingsMap": {},
     "title": ""
    }
   },
   "outputs": [],
   "source": [
    "from pyspark.sql import functions as F\n",
    "from pyspark.sql.window import Window"
   ]
  },
  {
   "cell_type": "code",
   "execution_count": 0,
   "metadata": {
    "application/vnd.databricks.v1+cell": {
     "cellMetadata": {
      "byteLimit": 2048000,
      "rowLimit": 10000
     },
     "inputWidgets": {},
     "nuid": "45260fa5-93cd-435f-9275-e5245a12f645",
     "showTitle": false,
     "tableResultSettingsMap": {},
     "title": ""
    }
   },
   "outputs": [],
   "source": [
    "catalog = 'taxi_eda_db'\n",
    "schema = 'yellow_taxi_trips'\n",
    "volume = 'data'\n",
    "file_name_2019 = 'yellow_tripdata_2019-01.parquet'\n",
    "file_name_2025 = 'yellow_tripdata_2025-01.parquet'\n",
    "path_volume = f'/Volumes/{catalog}/{schema}/{volume}'\n",
    "download_url_2019 = 'https://d37ci6vzurychx.cloudfront.net/trip-data/yellow_tripdata_2019-01.parquet'\n",
    "download_url_2025 = 'https://d37ci6vzurychx.cloudfront.net/trip-data/yellow_tripdata_2025-01.parquet'\n",
    "zone_lookup_url = 'https://d37ci6vzurychx.cloudfront.net/misc/taxi_zone_lookup.csv'\n"
   ]
  },
  {
   "cell_type": "code",
   "execution_count": 0,
   "metadata": {
    "application/vnd.databricks.v1+cell": {
     "cellMetadata": {
      "byteLimit": 2048000,
      "rowLimit": 10000
     },
     "inputWidgets": {},
     "nuid": "875da8e0-41a3-4eec-bcf4-6be54f04415a",
     "showTitle": false,
     "tableResultSettingsMap": {},
     "title": ""
    }
   },
   "outputs": [
    {
     "output_type": "execute_result",
     "data": {
      "text/plain": [
       "DataFrame[]"
      ]
     },
     "execution_count": 57,
     "metadata": {},
     "output_type": "execute_result"
    }
   ],
   "source": [
    "# Create catalog/schema/volume\n",
    "spark.sql(f'CREATE CATALOG IF NOT EXISTS {catalog}')\n",
    "spark.sql(f'CREATE SCHEMA IF NOT EXISTS {catalog}.{schema}')\n",
    "spark.sql(f'CREATE VOLUME IF NOT EXISTS {catalog}.{schema}.{volume}')"
   ]
  },
  {
   "cell_type": "code",
   "execution_count": 0,
   "metadata": {
    "application/vnd.databricks.v1+cell": {
     "cellMetadata": {
      "byteLimit": 2048000,
      "rowLimit": 10000
     },
     "inputWidgets": {},
     "nuid": "8690e7a4-1d27-4ce6-84a3-5d3b1fb38f53",
     "showTitle": false,
     "tableResultSettingsMap": {},
     "title": ""
    }
   },
   "outputs": [
    {
     "output_type": "stream",
     "name": "stdout",
     "output_type": "stream",
     "text": [
      "Loaded 7696617 trips\nroot\n |-- VendorID: long (nullable = true)\n |-- tpep_pickup_datetime: timestamp_ntz (nullable = true)\n |-- tpep_dropoff_datetime: timestamp_ntz (nullable = true)\n |-- passenger_count: double (nullable = true)\n |-- trip_distance: double (nullable = true)\n |-- RatecodeID: double (nullable = true)\n |-- store_and_fwd_flag: string (nullable = true)\n |-- PULocationID: long (nullable = true)\n |-- DOLocationID: long (nullable = true)\n |-- payment_type: long (nullable = true)\n |-- fare_amount: double (nullable = true)\n |-- extra: double (nullable = true)\n |-- mta_tax: double (nullable = true)\n |-- tip_amount: double (nullable = true)\n |-- tolls_amount: double (nullable = true)\n |-- improvement_surcharge: double (nullable = true)\n |-- total_amount: double (nullable = true)\n |-- congestion_surcharge: double (nullable = true)\n |-- airport_fee: integer (nullable = true)\n\n"
     ]
    }
   ],
   "source": [
    "# Get the data\n",
    "dbutils.fs.cp(download_url_2019, f\"{path_volume}/{file_name_2019}\")\n",
    "\n",
    "# Load trips\n",
    "df_trips = spark.read.parquet(f\"{path_volume}/{file_name_2019}\", header=True, inferSchema=True)\n",
    "print(f\"Loaded {df_trips.count()} trips\")\n",
    "df_trips.printSchema()"
   ]
  },
  {
   "cell_type": "markdown",
   "metadata": {
    "application/vnd.databricks.v1+cell": {
     "cellMetadata": {
      "byteLimit": 2048000,
      "rowLimit": 10000
     },
     "inputWidgets": {},
     "nuid": "80db5b1f-b7a2-46c4-84a9-b7e904644b23",
     "showTitle": false,
     "tableResultSettingsMap": {},
     "title": ""
    }
   },
   "source": [
    "##Part 1\n",
    "This section can be completed either using pyspark commands or sql commands ( There will be a section after in which a self-chosen subset of the questions are re-answered using the language not used for the main section. i.e. if pyspark is chosen for the main lab, sql should be used to repeat some of the questions. )\n",
    "\n",
    "- Add a column that creates a unique key to identify each record in order to answer questions about individual trips\n"
   ]
  },
  {
   "cell_type": "code",
   "execution_count": 0,
   "metadata": {
    "application/vnd.databricks.v1+cell": {
     "cellMetadata": {
      "byteLimit": 2048000,
      "rowLimit": 10000
     },
     "inputWidgets": {},
     "nuid": "856b67f7-4d08-48d2-a022-da1db60360b6",
     "showTitle": false,
     "tableResultSettingsMap": {},
     "title": ""
    }
   },
   "outputs": [],
   "source": [
    "df_trips = df_trips.withColumn(\"trip_id\", F.monotonically_increasing_id())\n"
   ]
  },
  {
   "cell_type": "markdown",
   "metadata": {
    "application/vnd.databricks.v1+cell": {
     "cellMetadata": {
      "byteLimit": 2048000,
      "rowLimit": 10000
     },
     "inputWidgets": {},
     "nuid": "88e8dc24-895b-426b-87f8-3dca430a3fb2",
     "showTitle": false,
     "tableResultSettingsMap": {},
     "title": ""
    }
   },
   "source": [
    "- Which trip has the highest passanger count\n"
   ]
  },
  {
   "cell_type": "code",
   "execution_count": 0,
   "metadata": {
    "application/vnd.databricks.v1+cell": {
     "cellMetadata": {
      "byteLimit": 2048000,
      "rowLimit": 10000
     },
     "inputWidgets": {},
     "nuid": "f4314ece-be9f-4e81-9fc6-8ddad2f83420",
     "showTitle": false,
     "tableResultSettingsMap": {},
     "title": ""
    }
   },
   "outputs": [
    {
     "output_type": "stream",
     "name": "stdout",
     "output_type": "stream",
     "text": [
      "+-------+---------------+--------------------+\n|trip_id|passenger_count|tpep_pickup_datetime|\n+-------+---------------+--------------------+\n| 949956|            9.0| 2019-01-05 13:12:29|\n+-------+---------------+--------------------+\nonly showing top 1 row\n"
     ]
    }
   ],
   "source": [
    "df_trips.orderBy(F.desc(\"passenger_count\")).select(\"trip_id\", \"passenger_count\", \"tpep_pickup_datetime\").show(1)\n"
   ]
  },
  {
   "cell_type": "markdown",
   "metadata": {
    "application/vnd.databricks.v1+cell": {
     "cellMetadata": {
      "byteLimit": 2048000,
      "rowLimit": 10000
     },
     "inputWidgets": {},
     "nuid": "0a5eb036-d307-4641-bf95-39181618444a",
     "showTitle": false,
     "tableResultSettingsMap": {},
     "title": ""
    }
   },
   "source": [
    "- What is the Average passanger count\n",
    "\n"
   ]
  },
  {
   "cell_type": "code",
   "execution_count": 0,
   "metadata": {
    "application/vnd.databricks.v1+cell": {
     "cellMetadata": {
      "byteLimit": 2048000,
      "rowLimit": 10000
     },
     "inputWidgets": {},
     "nuid": "80279827-40ab-47ab-8ed0-8a7616e7882f",
     "showTitle": false,
     "tableResultSettingsMap": {},
     "title": ""
    }
   },
   "outputs": [
    {
     "output_type": "stream",
     "name": "stdout",
     "output_type": "stream",
     "text": [
      "+--------------------+\n|avg(passenger_count)|\n+--------------------+\n|  1.5670317144945614|\n+--------------------+\n\n"
     ]
    }
   ],
   "source": [
    "df_trips.select(F.avg(\"passenger_count\")).show()"
   ]
  },
  {
   "cell_type": "markdown",
   "metadata": {
    "application/vnd.databricks.v1+cell": {
     "cellMetadata": {
      "byteLimit": 2048000,
      "rowLimit": 10000
     },
     "inputWidgets": {},
     "nuid": "a2d1d17f-5270-488d-b93c-30defa431665",
     "showTitle": false,
     "tableResultSettingsMap": {},
     "title": ""
    }
   },
   "source": [
    "- Shortest/longest trip by distance? by time?\n"
   ]
  },
  {
   "cell_type": "code",
   "execution_count": 0,
   "metadata": {
    "application/vnd.databricks.v1+cell": {
     "cellMetadata": {
      "byteLimit": 2048000,
      "rowLimit": 10000
     },
     "inputWidgets": {},
     "nuid": "e62be644-1db0-4726-a28e-6e86ab91bf76",
     "showTitle": false,
     "tableResultSettingsMap": {},
     "title": ""
    }
   },
   "outputs": [
    {
     "output_type": "stream",
     "name": "stdout",
     "output_type": "stream",
     "text": [
      "Trip distance stats:\n+------------------+------------------+\n|min(trip_distance)|max(trip_distance)|\n+------------------+------------------+\n|              0.01|             831.8|\n+------------------+------------------+\n\nTrip duration stats:\n+--------------------------+--------------------------+\n|min(trip_duration_minutes)|max(trip_duration_minutes)|\n+--------------------------+--------------------------+\n|      0.016666666666666666|         43648.01666666667|\n+--------------------------+--------------------------+\n\n"
     ]
    }
   ],
   "source": [
    "# Shortest and longest trips by distance\n",
    "print(\"Trip distance stats:\")\n",
    "df_trips.filter(F.col(\"trip_distance\") > 0).select(\n",
    "    F.min(\"trip_distance\"), \n",
    "    F.max(\"trip_distance\")\n",
    ").show()\n",
    "\n",
    "# By time\n",
    "df_trips = df_trips.withColumn(\n",
    "    \"trip_duration_minutes\",\n",
    "    (F.unix_timestamp(\"tpep_dropoff_datetime\") - F.unix_timestamp(\"tpep_pickup_datetime\")) / 60\n",
    ")\n",
    "\n",
    "print(\"Trip duration stats:\")\n",
    "df_trips.filter(F.col(\"trip_duration_minutes\") > 0).select(\n",
    "    F.min(\"trip_duration_minutes\"),\n",
    "    F.max(\"trip_duration_minutes\")\n",
    ").show()"
   ]
  },
  {
   "cell_type": "markdown",
   "metadata": {
    "application/vnd.databricks.v1+cell": {
     "cellMetadata": {
      "byteLimit": 2048000,
      "rowLimit": 10000
     },
     "inputWidgets": {},
     "nuid": "35232ac1-8bb6-4a9e-baec-3244dc0f34ac",
     "showTitle": false,
     "tableResultSettingsMap": {},
     "title": ""
    }
   },
   "source": [
    "- highest/lowest faire amounts for a trip, what burough is associated with the each.\n"
   ]
  },
  {
   "cell_type": "code",
   "execution_count": 0,
   "metadata": {
    "application/vnd.databricks.v1+cell": {
     "cellMetadata": {
      "byteLimit": 2048000,
      "rowLimit": 10000
     },
     "inputWidgets": {},
     "nuid": "939c2b1a-035c-4b08-8099-d967a013c52d",
     "showTitle": false,
     "tableResultSettingsMap": {},
     "title": ""
    }
   },
   "outputs": [],
   "source": []
  },
  {
   "cell_type": "markdown",
   "metadata": {
    "application/vnd.databricks.v1+cell": {
     "cellMetadata": {
      "byteLimit": 2048000,
      "rowLimit": 10000
     },
     "inputWidgets": {},
     "nuid": "0807cd08-fb24-4c34-a947-7cc75195822b",
     "showTitle": false,
     "tableResultSettingsMap": {},
     "title": ""
    }
   },
   "source": [
    "- busiest day/slowest single day\n"
   ]
  },
  {
   "cell_type": "code",
   "execution_count": 0,
   "metadata": {
    "application/vnd.databricks.v1+cell": {
     "cellMetadata": {
      "byteLimit": 2048000,
      "rowLimit": 10000
     },
     "inputWidgets": {},
     "nuid": "76b724b2-8551-4a06-9d01-f686639032cd",
     "showTitle": false,
     "tableResultSettingsMap": {},
     "title": ""
    }
   },
   "outputs": [
    {
     "output_type": "stream",
     "name": "stdout",
     "output_type": "stream",
     "text": [
      "Slowest day:\n+-----------+-----+\n|pickup_date|count|\n+-----------+-----+\n| 2018-12-21|    1|\n+-----------+-----+\nonly showing top 1 row\nBusiest day:\n+-----------+------+\n|pickup_date| count|\n+-----------+------+\n| 2019-01-25|292499|\n+-----------+------+\nonly showing top 1 row\n"
     ]
    }
   ],
   "source": [
    "df_trips = df_trips.withColumn(\"pickup_date\", F.to_date(\"tpep_pickup_datetime\"))\n",
    "daily_trips = df_trips.groupBy(\"pickup_date\").count().orderBy(\"count\")\n",
    "\n",
    "print(\"Slowest day:\")\n",
    "daily_trips.show(1)\n",
    "print(\"Busiest day:\")\n",
    "daily_trips.orderBy(F.desc(\"count\")).show(1)"
   ]
  },
  {
   "cell_type": "markdown",
   "metadata": {
    "application/vnd.databricks.v1+cell": {
     "cellMetadata": {
      "byteLimit": 2048000,
      "rowLimit": 10000
     },
     "inputWidgets": {},
     "nuid": "8f6d4b1d-bc0b-417f-abd9-b4bd7aabe381",
     "showTitle": false,
     "tableResultSettingsMap": {},
     "title": ""
    }
   },
   "source": [
    "- busiest/slowest time of day ( you may want to bucket these by hour or create timess such as morning, afternoon, evening, late night )\n"
   ]
  },
  {
   "cell_type": "code",
   "execution_count": 0,
   "metadata": {
    "application/vnd.databricks.v1+cell": {
     "cellMetadata": {
      "byteLimit": 2048000,
      "rowLimit": 10000
     },
     "inputWidgets": {},
     "nuid": "f30f46d1-f2e2-42a9-b164-dd2bb6ecf071",
     "showTitle": false,
     "tableResultSettingsMap": {},
     "title": ""
    }
   },
   "outputs": [
    {
     "output_type": "stream",
     "name": "stdout",
     "output_type": "stream",
     "text": [
      "Trips by hour:\n+-----------+------+\n|pickup_hour| count|\n+-----------+------+\n|          0|207842|\n|          1|149254|\n|          2|109421|\n|          3| 78086|\n|          4| 61424|\n|          5| 75533|\n|          6|178598|\n|          7|304858|\n|          8|373742|\n|          9|365935|\n|         10|361390|\n|         11|375441|\n|         12|401173|\n|         13|404153|\n|         14|433139|\n|         15|452691|\n|         16|420843|\n|         17|468479|\n|         18|515390|\n|         19|475186|\n|         20|423156|\n|         21|409901|\n|         22|369041|\n|         23|281941|\n+-----------+------+\n\n+-----------+-------+\n|time_period|  count|\n+-----------+-------+\n|    Evening|2292112|\n|  Afternoon|2111999|\n|    Morning|1959964|\n| Late Night|1332542|\n+-----------+-------+\n\n"
     ]
    }
   ],
   "source": [
    "# Time of day analysis\n",
    "df_trips = df_trips.withColumn(\"pickup_hour\", F.hour(\"tpep_pickup_datetime\"))\n",
    "\n",
    "print(\"Trips by hour:\")\n",
    "df_trips.groupBy(\"pickup_hour\").count().orderBy(\"pickup_hour\").show(24)\n",
    "\n",
    "# Time periods\n",
    "df_trips = df_trips.withColumn(\n",
    "    \"time_period\",\n",
    "    F.when((F.col(\"pickup_hour\") >= 6) & (F.col(\"pickup_hour\") < 12), \"Morning\")\n",
    "     .when((F.col(\"pickup_hour\") >= 12) & (F.col(\"pickup_hour\") < 17), \"Afternoon\")\n",
    "     .when((F.col(\"pickup_hour\") >= 17) & (F.col(\"pickup_hour\") < 22), \"Evening\")\n",
    "     .otherwise(\"Late Night\")\n",
    ")\n",
    "\n",
    "df_trips.groupBy(\"time_period\").count().orderBy(F.desc(\"count\")).show()\n"
   ]
  },
  {
   "cell_type": "markdown",
   "metadata": {
    "application/vnd.databricks.v1+cell": {
     "cellMetadata": {
      "byteLimit": 2048000,
      "rowLimit": 10000
     },
     "inputWidgets": {},
     "nuid": "4528f307-fd83-4132-8bc4-8a0c86aeae54",
     "showTitle": false,
     "tableResultSettingsMap": {},
     "title": ""
    }
   },
   "source": [
    "- On average which day of the week is slowest/busiest\n"
   ]
  },
  {
   "cell_type": "code",
   "execution_count": 0,
   "metadata": {
    "application/vnd.databricks.v1+cell": {
     "cellMetadata": {
      "byteLimit": 2048000,
      "rowLimit": 10000
     },
     "inputWidgets": {},
     "nuid": "0c7920b0-590e-4717-8c99-8a134e5b0db4",
     "showTitle": false,
     "tableResultSettingsMap": {},
     "title": ""
    }
   },
   "outputs": [
    {
     "output_type": "stream",
     "name": "stdout",
     "output_type": "stream",
     "text": [
      "Trips by day of week:\n+---------+-----------+-------+\n| day_name|day_of_week|  count|\n+---------+-----------+-------+\n|   Sunday|          1| 859905|\n|   Monday|          2| 908121|\n|  Tuesday|          3|1209084|\n|Wednesday|          4|1265264|\n| Thursday|          5|1357043|\n|   Friday|          6|1087215|\n| Saturday|          7|1009985|\n+---------+-----------+-------+\n\n"
     ]
    }
   ],
   "source": [
    "df_trips = df_trips.withColumn(\"day_of_week\", F.dayofweek(\"tpep_pickup_datetime\"))\n",
    "df_trips = df_trips.withColumn(\n",
    "    \"day_name\",\n",
    "    F.when(F.col(\"day_of_week\") == 1, \"Sunday\")\n",
    "     .when(F.col(\"day_of_week\") == 2, \"Monday\")\n",
    "     .when(F.col(\"day_of_week\") == 3, \"Tuesday\")\n",
    "     .when(F.col(\"day_of_week\") == 4, \"Wednesday\")\n",
    "     .when(F.col(\"day_of_week\") == 5, \"Thursday\")\n",
    "     .when(F.col(\"day_of_week\") == 6, \"Friday\")\n",
    "     .otherwise(\"Saturday\")\n",
    ")\n",
    "\n",
    "print(\"Trips by day of week:\")\n",
    "df_trips.groupBy(\"day_name\", \"day_of_week\").count().orderBy(\"day_of_week\").show()\n"
   ]
  },
  {
   "cell_type": "markdown",
   "metadata": {
    "application/vnd.databricks.v1+cell": {
     "cellMetadata": {
      "byteLimit": 2048000,
      "rowLimit": 10000
     },
     "inputWidgets": {},
     "nuid": "fd5e8baa-1bce-47be-999c-b751b867b98d",
     "showTitle": false,
     "tableResultSettingsMap": {},
     "title": ""
    }
   },
   "source": [
    "- Does trip distance or num passangers affect tip amount\n"
   ]
  },
  {
   "cell_type": "code",
   "execution_count": 0,
   "metadata": {
    "application/vnd.databricks.v1+cell": {
     "cellMetadata": {
      "byteLimit": 2048000,
      "rowLimit": 10000
     },
     "inputWidgets": {},
     "nuid": "5fd0e102-5f40-4f84-9b2e-903d2e2f7d90",
     "showTitle": false,
     "tableResultSettingsMap": {},
     "title": ""
    }
   },
   "outputs": [
    {
     "output_type": "stream",
     "name": "stdout",
     "output_type": "stream",
     "text": [
      "+------------------+--------------------+\n| distance_tip_corr|  passenger_tip_corr|\n+------------------+--------------------+\n|0.5471894202380073|8.781409231332617E-4|\n+------------------+--------------------+\n\n+---------------+------------------+-------+\n|passenger_count|           avg_tip|  trips|\n+---------------+------------------+-------+\n|            1.0|1.8284086254890013|5456434|\n|            2.0|1.8339754318026735|1113879|\n|            3.0| 1.795606914741546| 314690|\n|            4.0|1.7027265687165505| 140752|\n|            5.0|1.8699009072436963| 323838|\n|            6.0|1.8568570631795251| 200809|\n+---------------+------------------+-------+\n\n"
     ]
    }
   ],
   "source": [
    "# Correlation analysis - distance/passengers vs tip\n",
    "df_trips.filter(\n",
    "    (F.col(\"tip_amount\") >= 0) & (F.col(\"trip_distance\") > 0)\n",
    ").select(\n",
    "    F.corr(\"trip_distance\", \"tip_amount\").alias(\"distance_tip_corr\"),\n",
    "    F.corr(\"passenger_count\", \"tip_amount\").alias(\"passenger_tip_corr\")\n",
    ").show()\n",
    "\n",
    "# Tips by passenger count\n",
    "df_trips.filter(\n",
    "    (F.col(\"tip_amount\") >= 0) & (F.col(\"passenger_count\") > 0) & (F.col(\"passenger_count\") <= 6)\n",
    ").groupBy(\"passenger_count\").agg(\n",
    "    F.avg(\"tip_amount\").alias(\"avg_tip\"),\n",
    "    F.count(\"*\").alias(\"trips\")\n",
    ").orderBy(\"passenger_count\").show()"
   ]
  },
  {
   "cell_type": "markdown",
   "metadata": {
    "application/vnd.databricks.v1+cell": {
     "cellMetadata": {
      "byteLimit": 2048000,
      "rowLimit": 10000
     },
     "inputWidgets": {},
     "nuid": "f160cfb6-acaf-4690-a553-a3f252ce44f5",
     "showTitle": false,
     "tableResultSettingsMap": {},
     "title": ""
    }
   },
   "source": [
    "- What was the highest \"extra\" charge and which trip\n"
   ]
  },
  {
   "cell_type": "code",
   "execution_count": 0,
   "metadata": {
    "application/vnd.databricks.v1+cell": {
     "cellMetadata": {
      "byteLimit": 2048000,
      "rowLimit": 10000
     },
     "inputWidgets": {},
     "nuid": "6b47acf7-1999-4938-904a-94db7c90dedb",
     "showTitle": false,
     "tableResultSettingsMap": {},
     "title": ""
    }
   },
   "outputs": [
    {
     "output_type": "stream",
     "name": "stdout",
     "output_type": "stream",
     "text": [
      "+-------+------+------------+--------------------+\n|trip_id| extra|total_amount|tpep_pickup_datetime|\n+-------+------+------------+--------------------+\n|5323483|535.38|   356214.78| 2019-01-23 08:58:09|\n+-------+------+------------+--------------------+\nonly showing top 1 row\n"
     ]
    }
   ],
   "source": [
    "df_trips.orderBy(F.desc(\"extra\")).select(\"trip_id\", \"extra\", \"total_amount\", \"tpep_pickup_datetime\").show(1)\n"
   ]
  },
  {
   "cell_type": "markdown",
   "metadata": {
    "application/vnd.databricks.v1+cell": {
     "cellMetadata": {
      "byteLimit": 2048000,
      "rowLimit": 10000
     },
     "inputWidgets": {},
     "nuid": "34e6f747-1366-42e2-88c9-ba17f1da044f",
     "showTitle": false,
     "tableResultSettingsMap": {},
     "title": ""
    }
   },
   "source": [
    "- Are there any datapoints that seem to be strange/outliers (make sure to explain your reasoning in a markdown cell)?"
   ]
  },
  {
   "cell_type": "code",
   "execution_count": 0,
   "metadata": {
    "application/vnd.databricks.v1+cell": {
     "cellMetadata": {
      "byteLimit": 2048000,
      "rowLimit": 10000
     },
     "inputWidgets": {},
     "nuid": "db921be4-0d81-43ae-b2d6-86a0ab1fcc67",
     "showTitle": false,
     "tableResultSettingsMap": {},
     "title": ""
    }
   },
   "outputs": [
    {
     "output_type": "stream",
     "name": "stdout",
     "output_type": "stream",
     "text": [
      "+---------------+-------------+-------------+\n|zero_passengers|zero_distance|negative_fare|\n+---------------+-------------+-------------+\n|         117381|        55089|         7129|\n+---------------+-------------+-------------+\n\nOutliers:\nTrips over 100 miles: 32\nTrips over 3 hours: 20914\nTrips over $500: 56\nTrips with >6 passengers: 57\n"
     ]
    }
   ],
   "source": [
    "df_trips.select(\n",
    "    F.sum(F.when(F.col(\"passenger_count\") == 0, 1).otherwise(0)).alias(\"zero_passengers\"),\n",
    "    F.sum(F.when(F.col(\"trip_distance\") == 0, 1).otherwise(0)).alias(\"zero_distance\"),\n",
    "    F.sum(F.when(F.col(\"fare_amount\") < 0, 1).otherwise(0)).alias(\"negative_fare\")\n",
    ").show()\n",
    "\n",
    "print(\"Outliers:\")\n",
    "print(f\"Trips over 100 miles: {df_trips.filter(F.col('trip_distance') > 100).count()}\")\n",
    "print(f\"Trips over 3 hours: {df_trips.filter(F.col('trip_duration_minutes') > 180).count()}\")\n",
    "print(f\"Trips over $500: {df_trips.filter(F.col('total_amount') > 500).count()}\")\n",
    "print(f\"Trips with >6 passengers: {df_trips.filter(F.col('passenger_count') > 6).count()}\")\n"
   ]
  },
  {
   "cell_type": "markdown",
   "metadata": {
    "application/vnd.databricks.v1+cell": {
     "cellMetadata": {
      "byteLimit": 2048000,
      "rowLimit": 10000
     },
     "inputWidgets": {},
     "nuid": "ef7d3452-fb69-457e-94c2-9389b7d1611d",
     "showTitle": false,
     "tableResultSettingsMap": {},
     "title": ""
    }
   },
   "source": [
    "##Part 2\n",
    "- Using the code for loading the first dataset as an example, load in the taxi zone lookup and answer the following questions\n"
   ]
  },
  {
   "cell_type": "code",
   "execution_count": 0,
   "metadata": {
    "application/vnd.databricks.v1+cell": {
     "cellMetadata": {
      "byteLimit": 2048000,
      "rowLimit": 10000
     },
     "inputWidgets": {},
     "nuid": "ab418833-0d8b-4440-947e-d7099615bbbf",
     "showTitle": false,
     "tableResultSettingsMap": {},
     "title": ""
    }
   },
   "outputs": [
    {
     "output_type": "stream",
     "name": "stdout",
     "output_type": "stream",
     "text": [
      "Zone lookup loaded:\n+----------+-------------+--------------------+------------+\n|LocationID|      Borough|                Zone|service_zone|\n+----------+-------------+--------------------+------------+\n|         1|          EWR|      Newark Airport|         EWR|\n|         2|       Queens|         Jamaica Bay|   Boro Zone|\n|         3|        Bronx|Allerton/Pelham G...|   Boro Zone|\n|         4|    Manhattan|       Alphabet City| Yellow Zone|\n|         5|Staten Island|       Arden Heights|   Boro Zone|\n|         6|Staten Island|Arrochar/Fort Wad...|   Boro Zone|\n|         7|       Queens|             Astoria|   Boro Zone|\n|         8|       Queens|        Astoria Park|   Boro Zone|\n|         9|       Queens|          Auburndale|   Boro Zone|\n|        10|       Queens|        Baisley Park|   Boro Zone|\n+----------+-------------+--------------------+------------+\nonly showing top 10 rows\n"
     ]
    }
   ],
   "source": [
    "# Load zone lookup\n",
    "zone_file = 'taxi_zone_lookup.csv'\n",
    "dbutils.fs.cp(zone_lookup_url, f\"{path_volume}/{zone_file}\")\n",
    "df_zones = spark.read.csv(f\"{path_volume}/{zone_file}\", header=True, inferSchema=True)\n",
    "\n",
    "print(\"Zone lookup loaded:\")\n",
    "df_zones.show(10)\n",
    "\n",
    "# Join with zones\n",
    "df_trips_zones = df_trips \\\n",
    "    .join(df_zones.withColumnRenamed(\"LocationID\", \"PULocationID\")\n",
    "                  .withColumnRenamed(\"Borough\", \"pickup_borough\")\n",
    "                  .withColumnRenamed(\"Zone\", \"pickup_zone\"),\n",
    "          \"PULocationID\", \"left\") \\\n",
    "    .join(df_zones.withColumnRenamed(\"LocationID\", \"DOLocationID\")\n",
    "                  .withColumnRenamed(\"Borough\", \"dropoff_borough\")\n",
    "                  .withColumnRenamed(\"Zone\", \"dropoff_zone\"),\n",
    "          \"DOLocationID\", \"left\")"
   ]
  },
  {
   "cell_type": "markdown",
   "metadata": {
    "application/vnd.databricks.v1+cell": {
     "cellMetadata": {
      "byteLimit": 2048000,
      "rowLimit": 10000
     },
     "inputWidgets": {},
     "nuid": "694c7730-8e90-4427-b896-3a22dd3b114a",
     "showTitle": false,
     "tableResultSettingsMap": {},
     "title": ""
    }
   },
   "source": [
    "- which borough had most pickups? dropoffs?\n"
   ]
  },
  {
   "cell_type": "code",
   "execution_count": 0,
   "metadata": {
    "application/vnd.databricks.v1+cell": {
     "cellMetadata": {
      "byteLimit": 2048000,
      "rowLimit": 10000
     },
     "inputWidgets": {},
     "nuid": "f56b3b40-b766-4a52-bd6b-ffd34eb3461b",
     "showTitle": false,
     "tableResultSettingsMap": {},
     "title": ""
    }
   },
   "outputs": [
    {
     "output_type": "stream",
     "name": "stdout",
     "output_type": "stream",
     "text": [
      "Pickups by borough:\n+--------------+-------+\n|pickup_borough|  count|\n+--------------+-------+\n|     Manhattan|6950965|\n|        Queens| 471173|\n|       Unknown| 159815|\n|      Brooklyn|  91905|\n|         Bronx|  18062|\n|           N/A|   3890|\n|           EWR|    446|\n| Staten Island|    361|\n+--------------+-------+\n\nDropoffs by borough:\n+---------------+-------+\n|dropoff_borough|  count|\n+---------------+-------+\n|      Manhattan|6817355|\n|         Queens| 340972|\n|       Brooklyn| 301105|\n|        Unknown| 149097|\n|          Bronx|  58085|\n|            N/A|  16904|\n|            EWR|  10914|\n|  Staten Island|   2185|\n+---------------+-------+\n\n"
     ]
    }
   ],
   "source": [
    "print(\"Pickups by borough:\")\n",
    "df_trips_zones.groupBy(\"pickup_borough\").count().orderBy(F.desc(\"count\")).show()\n",
    "\n",
    "# Dropoffs by borough\n",
    "print(\"Dropoffs by borough:\")\n",
    "df_trips_zones.groupBy(\"dropoff_borough\").count().orderBy(F.desc(\"count\")).show()\n",
    "\n",
    "\n"
   ]
  },
  {
   "cell_type": "markdown",
   "metadata": {
    "application/vnd.databricks.v1+cell": {
     "cellMetadata": {
      "byteLimit": 2048000,
      "rowLimit": 10000
     },
     "inputWidgets": {},
     "nuid": "fc27af53-fd85-478a-b77a-f7da7e7b6a58",
     "showTitle": false,
     "tableResultSettingsMap": {},
     "title": ""
    }
   },
   "source": [
    "- what are the busiest days of the week by borough?\n"
   ]
  },
  {
   "cell_type": "code",
   "execution_count": 0,
   "metadata": {
    "application/vnd.databricks.v1+cell": {
     "cellMetadata": {
      "byteLimit": 2048000,
      "rowLimit": 10000
     },
     "inputWidgets": {},
     "nuid": "c523dd58-b8b9-4f44-9df2-6c6d45005e97",
     "showTitle": false,
     "tableResultSettingsMap": {},
     "title": ""
    }
   },
   "outputs": [
    {
     "output_type": "stream",
     "name": "stdout",
     "output_type": "stream",
     "text": [
      "Busiest days by borough:\n\nManhattan:\n+--------------+---------+-------+\n|pickup_borough| day_name|  count|\n+--------------+---------+-------+\n|     Manhattan| Thursday|1229554|\n|     Manhattan|Wednesday|1144782|\n|     Manhattan|  Tuesday|1086202|\n+--------------+---------+-------+\nonly showing top 3 rows\n\nQueens:\n+--------------+---------+-----+\n|pickup_borough| day_name|count|\n+--------------+---------+-----+\n|        Queens| Thursday|78972|\n|        Queens|  Tuesday|78684|\n|        Queens|Wednesday|75831|\n+--------------+---------+-----+\nonly showing top 3 rows\n\nBrooklyn:\n+--------------+---------+-----+\n|pickup_borough| day_name|count|\n+--------------+---------+-----+\n|      Brooklyn|  Tuesday|15779|\n|      Brooklyn| Thursday|15714|\n|      Brooklyn|Wednesday|15101|\n+--------------+---------+-----+\nonly showing top 3 rows\n\nBronx:\n+--------------+---------+-----+\n|pickup_borough| day_name|count|\n+--------------+---------+-----+\n|         Bronx| Thursday| 3121|\n|         Bronx|  Tuesday| 3059|\n|         Bronx|Wednesday| 2999|\n+--------------+---------+-----+\nonly showing top 3 rows\n"
     ]
    }
   ],
   "source": [
    "print(\"Busiest days by borough:\")\n",
    "borough_weekly = df_trips_zones.groupBy(\"pickup_borough\", \"day_name\").count()\n",
    "for borough in [\"Manhattan\", \"Queens\", \"Brooklyn\", \"Bronx\"]:\n",
    "    print(f\"\\n{borough}:\")\n",
    "    borough_weekly.filter(F.col(\"pickup_borough\") == borough).orderBy(F.desc(\"count\")).show(3)\n"
   ]
  },
  {
   "cell_type": "markdown",
   "metadata": {
    "application/vnd.databricks.v1+cell": {
     "cellMetadata": {
      "byteLimit": 2048000,
      "rowLimit": 10000
     },
     "inputWidgets": {},
     "nuid": "1ab15c37-7915-40d3-a02e-7749b68af4f6",
     "showTitle": false,
     "tableResultSettingsMap": {},
     "title": ""
    }
   },
   "source": [
    "- what is the average trip distance by borough?\n"
   ]
  },
  {
   "cell_type": "code",
   "execution_count": 0,
   "metadata": {
    "application/vnd.databricks.v1+cell": {
     "cellMetadata": {
      "byteLimit": 2048000,
      "rowLimit": 10000
     },
     "inputWidgets": {},
     "nuid": "2800c324-87b5-4ff1-af2c-0c1c9d578e19",
     "showTitle": false,
     "tableResultSettingsMap": {},
     "title": ""
    }
   },
   "outputs": [
    {
     "output_type": "stream",
     "name": "stdout",
     "output_type": "stream",
     "text": [
      "Average trip distance by borough:\n+--------------+------------------+-------+\n|pickup_borough|      avg_distance|  trips|\n+--------------+------------------+-------+\n| Staten Island|13.761585365853659|    328|\n|        Queens| 11.59852848391229| 458364|\n|           EWR|7.6988888888888845|    153|\n|         Bronx| 7.554846469669801|  17293|\n|           N/A|  5.59139513951397|   2222|\n|      Brooklyn| 4.905750504498675|  89693|\n|       Unknown|2.5447266590637896| 151697|\n|     Manhattan| 2.238066946093927|6921778|\n+--------------+------------------+-------+\n\n"
     ]
    }
   ],
   "source": [
    "print(\"Average trip distance by borough:\")\n",
    "df_trips_zones.filter(F.col(\"trip_distance\") > 0).groupBy(\"pickup_borough\").agg(\n",
    "    F.avg(\"trip_distance\").alias(\"avg_distance\"),\n",
    "    F.count(\"*\").alias(\"trips\")\n",
    ").orderBy(F.desc(\"avg_distance\")).show()"
   ]
  },
  {
   "cell_type": "markdown",
   "metadata": {
    "application/vnd.databricks.v1+cell": {
     "cellMetadata": {
      "byteLimit": 2048000,
      "rowLimit": 10000
     },
     "inputWidgets": {},
     "nuid": "c05035d7-f6bd-453f-afeb-0ab0ec3caeee",
     "showTitle": false,
     "tableResultSettingsMap": {},
     "title": ""
    }
   },
   "source": [
    "- what is the average trip fare by borough?\n"
   ]
  },
  {
   "cell_type": "code",
   "execution_count": 0,
   "metadata": {
    "application/vnd.databricks.v1+cell": {
     "cellMetadata": {
      "byteLimit": 2048000,
      "rowLimit": 10000
     },
     "inputWidgets": {},
     "nuid": "5e2b1e95-9d43-4afe-8d7a-4e282636eb86",
     "showTitle": false,
     "tableResultSettingsMap": {},
     "title": ""
    }
   },
   "outputs": [
    {
     "output_type": "stream",
     "name": "stdout",
     "output_type": "stream",
     "text": [
      "Average fare by borough:\n+--------------+------------------+-------+\n|pickup_borough|          avg_fare|  trips|\n+--------------+------------------+-------+\n|           EWR|  94.5367573696146|    441|\n|           N/A| 71.13499739039354|   3832|\n| Staten Island| 54.59456338028171|    355|\n|        Queens| 44.66860808294255| 469209|\n|         Bronx|29.596831280308137|  17941|\n|      Brooklyn| 21.72761210492711|  91566|\n|       Unknown|18.266325743523833| 159205|\n|     Manhattan|13.685106296390218|6945298|\n+--------------+------------------+-------+\n\n"
     ]
    }
   ],
   "source": [
    "print(\"Average fare by borough:\")\n",
    "df_trips_zones.filter(F.col(\"total_amount\") > 0).groupBy(\"pickup_borough\").agg(\n",
    "    F.avg(\"total_amount\").alias(\"avg_fare\"),\n",
    "    F.count(\"*\").alias(\"trips\")\n",
    ").orderBy(F.desc(\"avg_fare\")).show()"
   ]
  },
  {
   "cell_type": "markdown",
   "metadata": {
    "application/vnd.databricks.v1+cell": {
     "cellMetadata": {
      "byteLimit": 2048000,
      "rowLimit": 10000
     },
     "inputWidgets": {},
     "nuid": "004e437c-d917-4b60-90c6-3aa4bd598ee5",
     "showTitle": false,
     "tableResultSettingsMap": {},
     "title": ""
    }
   },
   "source": [
    "- load the dataset from the most recently available january, is there a change to any of the average metrics."
   ]
  },
  {
   "cell_type": "code",
   "execution_count": 0,
   "metadata": {
    "application/vnd.databricks.v1+cell": {
     "cellMetadata": {
      "byteLimit": 2048000,
      "rowLimit": 10000
     },
     "inputWidgets": {},
     "nuid": "ff653efc-42d9-4d8e-8000-421f04ef8ca9",
     "showTitle": false,
     "tableResultSettingsMap": {},
     "title": ""
    }
   },
   "outputs": [
    {
     "output_type": "stream",
     "name": "stdout",
     "output_type": "stream",
     "text": [
      "2025 data loaded: 3475226 trips\n\n2019 metrics:\n+-------+------------------+------------------+------------------+\n|  trips|      avg_distance|          avg_fare|    avg_passengers|\n+-------+------------------+------------------+------------------+\n|7696617|2.8301461681151574|15.810651344610736|1.5670317144945614|\n+-------+------------------+------------------+------------------+\n\n2025 metrics:\n+-------+-----------------+-----------------+------------------+\n|  trips|     avg_distance|         avg_fare|    avg_passengers|\n+-------+-----------------+-----------------+------------------+\n|3475226|5.855126178844192|25.61129169728817|1.2978589658806226|\n+-------+-----------------+-----------------+------------------+\n\n"
     ]
    }
   ],
   "source": [
    "try:\n",
    "    dbutils.fs.cp(download_url_2025, f\"{path_volume}/{file_name_2025}\")\n",
    "    df_trips_2025 = spark.read.parquet(f\"{path_volume}/{file_name_2025}\", header=True, inferSchema=True)\n",
    "    \n",
    "    df_trips_2025 = df_trips_2025.withColumn(\n",
    "        \"trip_duration_minutes\",\n",
    "        (F.unix_timestamp(\"tpep_dropoff_datetime\") - F.unix_timestamp(\"tpep_pickup_datetime\")) / 60\n",
    "    )\n",
    "    \n",
    "    print(f\"2025 data loaded: {df_trips_2025.count()} trips\")\n",
    "    \n",
    "    # Compare 2019 vs 2025\n",
    "    print(\"\\n2019 metrics:\")\n",
    "    df_trips.select(\n",
    "        F.count(\"*\").alias(\"trips\"),\n",
    "        F.avg(\"trip_distance\").alias(\"avg_distance\"),\n",
    "        F.avg(\"total_amount\").alias(\"avg_fare\"),\n",
    "        F.avg(\"passenger_count\").alias(\"avg_passengers\")\n",
    "    ).show()\n",
    "    \n",
    "    print(\"2025 metrics:\")\n",
    "    df_trips_2025.select(\n",
    "        F.count(\"*\").alias(\"trips\"),\n",
    "        F.avg(\"trip_distance\").alias(\"avg_distance\"),\n",
    "        F.avg(\"total_amount\").alias(\"avg_fare\"),\n",
    "        F.avg(\"passenger_count\").alias(\"avg_passengers\")\n",
    "    ).show()\n",
    "    \n",
    "except Exception as e:\n",
    "    print(f\"Couldn't load 2025 data: {e}\")"
   ]
  },
  {
   "cell_type": "markdown",
   "metadata": {
    "application/vnd.databricks.v1+cell": {
     "cellMetadata": {
      "byteLimit": 2048000,
      "rowLimit": 10000
     },
     "inputWidgets": {},
     "nuid": "28dfb99b-ef40-4c23-b2de-2ed855d086c5",
     "showTitle": false,
     "tableResultSettingsMap": {},
     "title": ""
    }
   },
   "source": [
    "\n",
    "##Part 3\n"
   ]
  },
  {
   "cell_type": "markdown",
   "metadata": {
    "application/vnd.databricks.v1+cell": {
     "cellMetadata": {
      "byteLimit": 2048000,
      "rowLimit": 10000
     },
     "inputWidgets": {},
     "nuid": "4c9ef6ae-b333-43fd-9b52-9c977ccca21e",
     "showTitle": false,
     "tableResultSettingsMap": {},
     "title": ""
    }
   },
   "source": [
    "- view for SQL "
   ]
  },
  {
   "cell_type": "code",
   "execution_count": 0,
   "metadata": {
    "application/vnd.databricks.v1+cell": {
     "cellMetadata": {
      "byteLimit": 2048000,
      "rowLimit": 10000
     },
     "inputWidgets": {},
     "nuid": "fb84cde5-8568-4b2a-a2dd-004d86ea9e28",
     "showTitle": false,
     "tableResultSettingsMap": {},
     "title": ""
    }
   },
   "outputs": [],
   "source": [
    "df_trips.createOrReplaceTempView(\"trips\")\n",
    "df_zones.createOrReplaceTempView(\"zones\")"
   ]
  },
  {
   "cell_type": "markdown",
   "metadata": {
    "application/vnd.databricks.v1+cell": {
     "cellMetadata": {
      "byteLimit": 2048000,
      "rowLimit": 10000
     },
     "inputWidgets": {},
     "nuid": "165f1406-d406-4701-a03a-4aac2f1901b6",
     "showTitle": false,
     "tableResultSettingsMap": {},
     "title": ""
    }
   },
   "source": [
    "- Average passenger count in SQL"
   ]
  },
  {
   "cell_type": "code",
   "execution_count": 0,
   "metadata": {
    "application/vnd.databricks.v1+cell": {
     "cellMetadata": {
      "byteLimit": 2048000,
      "rowLimit": 10000
     },
     "inputWidgets": {},
     "nuid": "0e412582-ac9a-493f-a45d-54e27b482982",
     "showTitle": false,
     "tableResultSettingsMap": {},
     "title": ""
    }
   },
   "outputs": [
    {
     "output_type": "stream",
     "name": "stdout",
     "output_type": "stream",
     "text": [
      "+-----------------+--------------+--------------+\n|   avg_passengers|min_passengers|max_passengers|\n+-----------------+--------------+--------------+\n|1.591392775427107|           1.0|           9.0|\n+-----------------+--------------+--------------+\n\n"
     ]
    }
   ],
   "source": [
    "spark.sql(\"\"\"\n",
    "    SELECT \n",
    "        AVG(passenger_count) as avg_passengers,\n",
    "        MIN(passenger_count) as min_passengers,\n",
    "        MAX(passenger_count) as max_passengers\n",
    "    FROM trips\n",
    "    WHERE passenger_count > 0\n",
    "\"\"\").show()"
   ]
  },
  {
   "cell_type": "markdown",
   "metadata": {
    "application/vnd.databricks.v1+cell": {
     "cellMetadata": {
      "byteLimit": 2048000,
      "rowLimit": 10000
     },
     "inputWidgets": {},
     "nuid": "2ef5ba9f-e99c-440c-9583-a1b91f29350d",
     "showTitle": false,
     "tableResultSettingsMap": {},
     "title": ""
    }
   },
   "source": [
    "- Busiest day of week in SQL"
   ]
  },
  {
   "cell_type": "code",
   "execution_count": 0,
   "metadata": {
    "application/vnd.databricks.v1+cell": {
     "cellMetadata": {
      "byteLimit": 2048000,
      "rowLimit": 10000
     },
     "inputWidgets": {},
     "nuid": "0ff1fec1-00d7-408f-9aee-1416dc17e1db",
     "showTitle": false,
     "tableResultSettingsMap": {},
     "title": ""
    }
   },
   "outputs": [
    {
     "output_type": "stream",
     "name": "stdout",
     "output_type": "stream",
     "text": [
      "+---------+-------+\n| day_name|  trips|\n+---------+-------+\n| Thursday|1357043|\n|Wednesday|1265264|\n|  Tuesday|1209084|\n|   Friday|1087215|\n| Saturday|1009985|\n|   Monday| 908121|\n|   Sunday| 859905|\n+---------+-------+\n\n"
     ]
    }
   ],
   "source": [
    "spark.sql(\"\"\"\n",
    "    SELECT \n",
    "        CASE dayofweek(tpep_pickup_datetime)\n",
    "            WHEN 1 THEN 'Sunday'\n",
    "            WHEN 2 THEN 'Monday'\n",
    "            WHEN 3 THEN 'Tuesday'\n",
    "            WHEN 4 THEN 'Wednesday'\n",
    "            WHEN 5 THEN 'Thursday'\n",
    "            WHEN 6 THEN 'Friday'\n",
    "            ELSE 'Saturday'\n",
    "        END as day_name,\n",
    "        COUNT(*) as trips\n",
    "    FROM trips\n",
    "    GROUP BY dayofweek(tpep_pickup_datetime)\n",
    "    ORDER BY trips DESC\n",
    "\"\"\").show()"
   ]
  },
  {
   "cell_type": "markdown",
   "metadata": {
    "application/vnd.databricks.v1+cell": {
     "cellMetadata": {
      "byteLimit": 2048000,
      "rowLimit": 10000
     },
     "inputWidgets": {},
     "nuid": "7c6c0fc5-b3e4-4758-ae47-de93dd0be5dd",
     "showTitle": false,
     "tableResultSettingsMap": {},
     "title": ""
    }
   },
   "source": [
    "- Top routes by borough with JOIN"
   ]
  },
  {
   "cell_type": "code",
   "execution_count": 0,
   "metadata": {
    "application/vnd.databricks.v1+cell": {
     "cellMetadata": {
      "byteLimit": 2048000,
      "rowLimit": 10000
     },
     "inputWidgets": {},
     "nuid": "4e68ea55-f8e6-437b-98af-946592a1f950",
     "showTitle": false,
     "tableResultSettingsMap": {},
     "title": ""
    }
   },
   "outputs": [
    {
     "output_type": "stream",
     "name": "stdout",
     "output_type": "stream",
     "text": [
      "+--------------+---------------+-------+------------------+------------------+\n|pickup_borough|dropoff_borough|  trips|      avg_distance|          avg_fare|\n+--------------+---------------+-------+------------------+------------------+\n|     Manhattan|      Manhattan|6504842|1.7786051359893669|12.011004899989434|\n|        Queens|      Manhattan| 260406|13.175084483460472|52.333278419078134|\n|     Manhattan|         Queens| 203936| 10.18861520280864| 41.33202651804795|\n|     Manhattan|       Brooklyn| 177506|6.7671669126677445|29.436141482504564|\n|       Unknown|        Unknown| 138613| 2.488677468924241| 17.53346915513194|\n|        Queens|         Queens| 126535| 5.239023353222512|22.869027857889517|\n|        Queens|       Brooklyn|  65488|13.554985493525438|  46.6634278035518|\n|      Brooklyn|       Brooklyn|  55622| 2.577569307108713|14.453794361946862|\n|     Manhattan|          Bronx|  39076| 9.175761848704967|   33.015027382548|\n|      Brooklyn|      Manhattan|  27657| 7.030075930144276|29.486383917274374|\n+--------------+---------------+-------+------------------+------------------+\n\n"
     ]
    }
   ],
   "source": [
    "spark.sql(\"\"\"\n",
    "    SELECT \n",
    "        pickup.Borough as pickup_borough,\n",
    "        dropoff.Borough as dropoff_borough,\n",
    "        COUNT(*) as trips,\n",
    "        AVG(t.trip_distance) as avg_distance,\n",
    "        AVG(t.total_amount) as avg_fare\n",
    "    FROM trips t\n",
    "    LEFT JOIN zones pickup ON t.PULocationID = pickup.LocationID\n",
    "    LEFT JOIN zones dropoff ON t.DOLocationID = dropoff.LocationID\n",
    "    WHERE pickup.Borough IS NOT NULL \n",
    "      AND dropoff.Borough IS NOT NULL\n",
    "    GROUP BY pickup.Borough, dropoff.Borough\n",
    "    ORDER BY trips DESC\n",
    "    LIMIT 10\n",
    "\"\"\").show()"
   ]
  },
  {
   "cell_type": "markdown",
   "metadata": {
    "application/vnd.databricks.v1+cell": {
     "cellMetadata": {
      "byteLimit": 2048000,
      "rowLimit": 10000
     },
     "inputWidgets": {},
     "nuid": "17107977-cc1d-4252-bee1-66328962954e",
     "showTitle": false,
     "tableResultSettingsMap": {},
     "title": ""
    }
   },
   "source": [
    "##Part 4"
   ]
  },
  {
   "cell_type": "code",
   "execution_count": 0,
   "metadata": {
    "application/vnd.databricks.v1+cell": {
     "cellMetadata": {
      "byteLimit": 2048000,
      "rowLimit": 10000
     },
     "inputWidgets": {},
     "nuid": "cc39b251-24d3-4787-a4b9-7766ebbfb479",
     "showTitle": false,
     "tableResultSettingsMap": {},
     "title": ""
    }
   },
   "outputs": [
    {
     "output_type": "stream",
     "name": "stdout",
     "output_type": "stream",
     "text": [
      "Hourly traffic:\n"
     ]
    },
    {
     "output_type": "display_data",
     "data": {
      "text/html": [
       "<style scoped>\n",
       "  .table-result-container {\n",
       "    max-height: 300px;\n",
       "    overflow: auto;\n",
       "  }\n",
       "  table, th, td {\n",
       "    border: 1px solid black;\n",
       "    border-collapse: collapse;\n",
       "  }\n",
       "  th, td {\n",
       "    padding: 5px;\n",
       "  }\n",
       "  th {\n",
       "    text-align: left;\n",
       "  }\n",
       "</style><div class='table-result-container'><table class='table-result'><thead style='background-color: white'><tr><th>pickup_hour</th><th>count</th></tr></thead><tbody><tr><td>0</td><td>207842</td></tr><tr><td>1</td><td>149254</td></tr><tr><td>2</td><td>109421</td></tr><tr><td>3</td><td>78086</td></tr><tr><td>4</td><td>61424</td></tr><tr><td>5</td><td>75533</td></tr><tr><td>6</td><td>178598</td></tr><tr><td>7</td><td>304858</td></tr><tr><td>8</td><td>373742</td></tr><tr><td>9</td><td>365935</td></tr><tr><td>10</td><td>361390</td></tr><tr><td>11</td><td>375441</td></tr><tr><td>12</td><td>401173</td></tr><tr><td>13</td><td>404153</td></tr><tr><td>14</td><td>433139</td></tr><tr><td>15</td><td>452691</td></tr><tr><td>16</td><td>420843</td></tr><tr><td>17</td><td>468479</td></tr><tr><td>18</td><td>515390</td></tr><tr><td>19</td><td>475186</td></tr><tr><td>20</td><td>423156</td></tr><tr><td>21</td><td>409901</td></tr><tr><td>22</td><td>369041</td></tr><tr><td>23</td><td>281941</td></tr></tbody></table></div>"
      ]
     },
     "metadata": {
      "application/vnd.databricks.v1+output": {
       "addedWidgets": {},
       "aggData": [],
       "aggError": "",
       "aggOverflow": false,
       "aggSchema": [],
       "aggSeriesLimitReached": false,
       "aggType": "",
       "arguments": {},
       "columnCustomDisplayInfos": {},
       "data": [
        [
         0,
         207842
        ],
        [
         1,
         149254
        ],
        [
         2,
         109421
        ],
        [
         3,
         78086
        ],
        [
         4,
         61424
        ],
        [
         5,
         75533
        ],
        [
         6,
         178598
        ],
        [
         7,
         304858
        ],
        [
         8,
         373742
        ],
        [
         9,
         365935
        ],
        [
         10,
         361390
        ],
        [
         11,
         375441
        ],
        [
         12,
         401173
        ],
        [
         13,
         404153
        ],
        [
         14,
         433139
        ],
        [
         15,
         452691
        ],
        [
         16,
         420843
        ],
        [
         17,
         468479
        ],
        [
         18,
         515390
        ],
        [
         19,
         475186
        ],
        [
         20,
         423156
        ],
        [
         21,
         409901
        ],
        [
         22,
         369041
        ],
        [
         23,
         281941
        ]
       ],
       "datasetInfos": [],
       "dbfsResultPath": null,
       "isJsonSchema": true,
       "metadata": {},
       "overflow": false,
       "plotOptions": {
        "customPlotOptions": {},
        "displayType": "table",
        "pivotAggregation": null,
        "pivotColumns": null,
        "xColumns": null,
        "yColumns": null
       },
       "removedWidgets": [],
       "schema": [
        {
         "metadata": "{}",
         "name": "pickup_hour",
         "type": "\"integer\""
        },
        {
         "metadata": "{}",
         "name": "count",
         "type": "\"long\""
        }
       ],
       "type": "table"
      }
     },
     "output_type": "display_data"
    },
    {
     "output_type": "stream",
     "name": "stdout",
     "output_type": "stream",
     "text": [
      "Weekly traffic:\n"
     ]
    },
    {
     "output_type": "display_data",
     "data": {
      "text/html": [
       "<style scoped>\n",
       "  .table-result-container {\n",
       "    max-height: 300px;\n",
       "    overflow: auto;\n",
       "  }\n",
       "  table, th, td {\n",
       "    border: 1px solid black;\n",
       "    border-collapse: collapse;\n",
       "  }\n",
       "  th, td {\n",
       "    padding: 5px;\n",
       "  }\n",
       "  th {\n",
       "    text-align: left;\n",
       "  }\n",
       "</style><div class='table-result-container'><table class='table-result'><thead style='background-color: white'><tr><th>day_name</th><th>day_of_week</th><th>count</th></tr></thead><tbody><tr><td>Sunday</td><td>1</td><td>859905</td></tr><tr><td>Monday</td><td>2</td><td>908121</td></tr><tr><td>Tuesday</td><td>3</td><td>1209084</td></tr><tr><td>Wednesday</td><td>4</td><td>1265264</td></tr><tr><td>Thursday</td><td>5</td><td>1357043</td></tr><tr><td>Friday</td><td>6</td><td>1087215</td></tr><tr><td>Saturday</td><td>7</td><td>1009985</td></tr></tbody></table></div>"
      ]
     },
     "metadata": {
      "application/vnd.databricks.v1+output": {
       "addedWidgets": {},
       "aggData": [],
       "aggError": "",
       "aggOverflow": false,
       "aggSchema": [],
       "aggSeriesLimitReached": false,
       "aggType": "",
       "arguments": {},
       "columnCustomDisplayInfos": {},
       "data": [
        [
         "Sunday",
         1,
         859905
        ],
        [
         "Monday",
         2,
         908121
        ],
        [
         "Tuesday",
         3,
         1209084
        ],
        [
         "Wednesday",
         4,
         1265264
        ],
        [
         "Thursday",
         5,
         1357043
        ],
        [
         "Friday",
         6,
         1087215
        ],
        [
         "Saturday",
         7,
         1009985
        ]
       ],
       "datasetInfos": [],
       "dbfsResultPath": null,
       "isJsonSchema": true,
       "metadata": {},
       "overflow": false,
       "plotOptions": {
        "customPlotOptions": {},
        "displayType": "table",
        "pivotAggregation": null,
        "pivotColumns": null,
        "xColumns": null,
        "yColumns": null
       },
       "removedWidgets": [],
       "schema": [
        {
         "metadata": "{}",
         "name": "day_name",
         "type": "\"string\""
        },
        {
         "metadata": "{}",
         "name": "day_of_week",
         "type": "\"integer\""
        },
        {
         "metadata": "{}",
         "name": "count",
         "type": "\"long\""
        }
       ],
       "type": "table"
      }
     },
     "output_type": "display_data"
    },
    {
     "output_type": "stream",
     "name": "stdout",
     "output_type": "stream",
     "text": [
      "Fare by borough:\n"
     ]
    },
    {
     "output_type": "display_data",
     "data": {
      "text/html": [
       "<style scoped>\n",
       "  .table-result-container {\n",
       "    max-height: 300px;\n",
       "    overflow: auto;\n",
       "  }\n",
       "  table, th, td {\n",
       "    border: 1px solid black;\n",
       "    border-collapse: collapse;\n",
       "  }\n",
       "  th, td {\n",
       "    padding: 5px;\n",
       "  }\n",
       "  th {\n",
       "    text-align: left;\n",
       "  }\n",
       "</style><div class='table-result-container'><table class='table-result'><thead style='background-color: white'><tr><th>pickup_borough</th><th>avg_fare</th></tr></thead><tbody><tr><td>EWR</td><td>94.5367573696146</td></tr><tr><td>N/A</td><td>71.13499739039354</td></tr><tr><td>Staten Island</td><td>54.59456338028171</td></tr><tr><td>Queens</td><td>44.66860808294255</td></tr><tr><td>Bronx</td><td>29.596831280308137</td></tr><tr><td>Brooklyn</td><td>21.72761210492711</td></tr><tr><td>Unknown</td><td>18.266325743523833</td></tr><tr><td>Manhattan</td><td>13.685106296390218</td></tr></tbody></table></div>"
      ]
     },
     "metadata": {
      "application/vnd.databricks.v1+output": {
       "addedWidgets": {},
       "aggData": [],
       "aggError": "",
       "aggOverflow": false,
       "aggSchema": [],
       "aggSeriesLimitReached": false,
       "aggType": "",
       "arguments": {},
       "columnCustomDisplayInfos": {},
       "data": [
        [
         "EWR",
         94.5367573696146
        ],
        [
         "N/A",
         71.13499739039354
        ],
        [
         "Staten Island",
         54.59456338028171
        ],
        [
         "Queens",
         44.66860808294255
        ],
        [
         "Bronx",
         29.596831280308137
        ],
        [
         "Brooklyn",
         21.72761210492711
        ],
        [
         "Unknown",
         18.266325743523833
        ],
        [
         "Manhattan",
         13.685106296390218
        ]
       ],
       "datasetInfos": [],
       "dbfsResultPath": null,
       "isJsonSchema": true,
       "metadata": {},
       "overflow": false,
       "plotOptions": {
        "customPlotOptions": {},
        "displayType": "table",
        "pivotAggregation": null,
        "pivotColumns": null,
        "xColumns": null,
        "yColumns": null
       },
       "removedWidgets": [],
       "schema": [
        {
         "metadata": "{}",
         "name": "pickup_borough",
         "type": "\"string\""
        },
        {
         "metadata": "{}",
         "name": "avg_fare",
         "type": "\"double\""
        }
       ],
       "type": "table"
      }
     },
     "output_type": "display_data"
    }
   ],
   "source": [
    "# Using Spark's native display\n",
    "print(\"Hourly traffic:\")\n",
    "hourly_viz = df_trips.groupBy(\"pickup_hour\").count().orderBy(\"pickup_hour\")\n",
    "display(hourly_viz)\n",
    "\n",
    "print(\"Weekly traffic:\")\n",
    "weekly_viz = df_trips.groupBy(\"day_name\", \"day_of_week\").count().orderBy(\"day_of_week\")\n",
    "display(weekly_viz)\n",
    "\n",
    "print(\"Fare by borough:\")\n",
    "fare_viz = df_trips_zones.filter(F.col(\"total_amount\") > 0).groupBy(\"pickup_borough\").agg(\n",
    "    F.avg(\"total_amount\").alias(\"avg_fare\")\n",
    ").orderBy(F.desc(\"avg_fare\"))\n",
    "display(fare_viz)"
   ]
  }
 ],
 "metadata": {
  "application/vnd.databricks.v1+notebook": {
   "computePreferences": null,
   "dashboards": [],
   "environmentMetadata": null,
   "inputWidgetPreferences": null,
   "language": "python",
   "notebookMetadata": {
    "mostRecentlyExecutedCommandWithImplicitDF": {
     "commandId": 8229827353079033,
     "dataframes": [
      "_sqldf"
     ]
    },
    "pythonIndentUnit": 4
   },
   "notebookName": "lab_sparksql_and_dataframes.ipynb",
   "widgets": {
    "param_1": {
     "currentValue": "",
     "nuid": "3323999c-5dca-4661-89c1-4141fd1e590f",
     "typedWidgetInfo": {
      "autoCreated": false,
      "defaultValue": "",
      "label": "",
      "name": "param_1",
      "options": {
       "widgetDisplayType": "Text",
       "validationRegex": null
      },
      "parameterDataType": "String"
     },
     "widgetInfo": {
      "widgetType": "text",
      "defaultValue": "",
      "label": "",
      "name": "param_1",
      "options": {
       "widgetType": "text",
       "autoCreated": false,
       "validationRegex": null
      }
     }
    }
   }
  },
  "language_info": {
   "name": "python"
  }
 },
 "nbformat": 4,
 "nbformat_minor": 0
}